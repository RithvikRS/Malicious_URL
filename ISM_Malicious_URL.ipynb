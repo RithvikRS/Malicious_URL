{
  "nbformat": 4,
  "nbformat_minor": 0,
  "metadata": {
    "colab": {
      "name": "ISM_Malicious_URL.ipynb",
      "provenance": [],
      "collapsed_sections": [],
      "authorship_tag": "ABX9TyOUReqYSGFGFZt3CMH6lPTe",
      "include_colab_link": true
    },
    "kernelspec": {
      "name": "python3",
      "display_name": "Python 3"
    },
    "language_info": {
      "name": "python"
    }
  },
  "cells": [
    {
      "cell_type": "markdown",
      "metadata": {
        "id": "view-in-github",
        "colab_type": "text"
      },
      "source": [
        "<a href=\"https://colab.research.google.com/github/RithvikRS/Malicious_URL/blob/main/ISM_Malicious_URL.ipynb\" target=\"_parent\"><img src=\"https://colab.research.google.com/assets/colab-badge.svg\" alt=\"Open In Colab\"/></a>"
      ]
    },
    {
      "cell_type": "code",
      "metadata": {
        "id": "UR3vykrRPGUr"
      },
      "source": [
        "#Importing packages\n",
        "import pandas as pd\n",
        "import numpy as np\n",
        "import matplotlib.pyplot as plt\n",
        "import random\n",
        "import re\n",
        "\n",
        "%matplotlib inline\n",
        "\n",
        "# Import Scikit-learn helper functions\n",
        "from sklearn.model_selection import train_test_split\n",
        "from sklearn.feature_extraction.text import TfidfVectorizer, CountVectorizer\n",
        "\n",
        "# Import Scikit-learn models\n",
        "from sklearn.linear_model import LogisticRegression\n",
        "from sklearn.naive_bayes import MultinomialNB\n",
        "\n",
        "# Import Scikit-learn metric functions\n",
        "from sklearn.metrics import confusion_matrix, classification_report\n",
        "import seaborn as sns"
      ],
      "execution_count": 1,
      "outputs": []
    },
    {
      "cell_type": "code",
      "metadata": {
        "colab": {
          "base_uri": "https://localhost:8080/"
        },
        "id": "f8HHcGBFNvwj",
        "outputId": "fc775223-959d-4101-e234-f3ac6de7c870"
      },
      "source": [
        "#importing Dataset from github\n",
        "! git clone https://github.com/RithvikRS/Malicious_URL.git\n",
        "data_dir = \"Malicious_URL/Malicious URLs.csv\"\n",
        "url_df = pd.read_csv(data_dir)\n",
        "test_url = url_df['URLs'][4]"
      ],
      "execution_count": 2,
      "outputs": [
        {
          "output_type": "stream",
          "text": [
            "fatal: destination path 'Malicious_URL' already exists and is not an empty directory.\n"
          ],
          "name": "stdout"
        }
      ]
    },
    {
      "cell_type": "code",
      "metadata": {
        "colab": {
          "base_uri": "https://localhost:8080/",
          "height": 195
        },
        "id": "h4LJqmZNPCo8",
        "outputId": "443c2881-8abb-46c1-eb18-7e2bd274fa92"
      },
      "source": [
        "#Data\n",
        "url_df.head(5)"
      ],
      "execution_count": 3,
      "outputs": [
        {
          "output_type": "execute_result",
          "data": {
            "text/html": [
              "<div>\n",
              "<style scoped>\n",
              "    .dataframe tbody tr th:only-of-type {\n",
              "        vertical-align: middle;\n",
              "    }\n",
              "\n",
              "    .dataframe tbody tr th {\n",
              "        vertical-align: top;\n",
              "    }\n",
              "\n",
              "    .dataframe thead th {\n",
              "        text-align: right;\n",
              "    }\n",
              "</style>\n",
              "<table border=\"1\" class=\"dataframe\">\n",
              "  <thead>\n",
              "    <tr style=\"text-align: right;\">\n",
              "      <th></th>\n",
              "      <th>URLs</th>\n",
              "      <th>Class</th>\n",
              "    </tr>\n",
              "  </thead>\n",
              "  <tbody>\n",
              "    <tr>\n",
              "      <th>0</th>\n",
              "      <td>freebase.com/view/en/bob_sirois</td>\n",
              "      <td>good</td>\n",
              "    </tr>\n",
              "    <tr>\n",
              "      <th>1</th>\n",
              "      <td>en.wikipedia.org/wiki/Joie_Lee</td>\n",
              "      <td>good</td>\n",
              "    </tr>\n",
              "    <tr>\n",
              "      <th>2</th>\n",
              "      <td>pipl.com/directory/people/Rejean/Beaudin</td>\n",
              "      <td>good</td>\n",
              "    </tr>\n",
              "    <tr>\n",
              "      <th>3</th>\n",
              "      <td>flickr.com/photos/teneyck/sets/72157610336209297/</td>\n",
              "      <td>good</td>\n",
              "    </tr>\n",
              "    <tr>\n",
              "      <th>4</th>\n",
              "      <td>ussoccer.com/News/Federation-Services/2009/06/...</td>\n",
              "      <td>good</td>\n",
              "    </tr>\n",
              "  </tbody>\n",
              "</table>\n",
              "</div>"
            ],
            "text/plain": [
              "                                                URLs Class\n",
              "0                    freebase.com/view/en/bob_sirois  good\n",
              "1                     en.wikipedia.org/wiki/Joie_Lee  good\n",
              "2           pipl.com/directory/people/Rejean/Beaudin  good\n",
              "3  flickr.com/photos/teneyck/sets/72157610336209297/  good\n",
              "4  ussoccer.com/News/Federation-Services/2009/06/...  good"
            ]
          },
          "metadata": {
            "tags": []
          },
          "execution_count": 3
        }
      ]
    },
    {
      "cell_type": "code",
      "metadata": {
        "id": "JvLYHV4qPzZx"
      },
      "source": [
        "#Splitting into Train/Test data\n",
        "test_percentage = .2\n",
        "train_df, test_df = train_test_split(url_df, test_size=test_percentage, random_state=42)\n",
        "labels = train_df['Class']\n",
        "test_labels = test_df['Class']"
      ],
      "execution_count": 4,
      "outputs": []
    },
    {
      "cell_type": "code",
      "metadata": {
        "colab": {
          "base_uri": "https://localhost:8080/"
        },
        "id": "M-kuTOgvQZhy",
        "outputId": "00a76285-8067-4419-8e42-9f3a910a56f2"
      },
      "source": [
        "#Counting the data for each split\n",
        "print(\"- Counting Splits -\")\n",
        "print(\"Training Samples:\", len(train_df))\n",
        "print(\"Testing Samples:\", len(test_df))"
      ],
      "execution_count": 5,
      "outputs": [
        {
          "output_type": "stream",
          "text": [
            "- Counting Splits -\n",
            "Training Samples: 336371\n",
            "Testing Samples: 84093\n"
          ],
          "name": "stdout"
        }
      ]
    },
    {
      "cell_type": "code",
      "metadata": {
        "colab": {
          "base_uri": "https://localhost:8080/",
          "height": 314
        },
        "id": "QF5xO1BbQ8P6",
        "outputId": "e9b5f296-bdda-44f4-9ded-0bd61793c0a1"
      },
      "source": [
        "# Graph counts of training set\n",
        "count_train_classes = pd.value_counts(train_df['Class'])\n",
        "count_train_classes.plot(kind='bar', fontsize=16)\n",
        "plt.title(\"Class Count (Training)\", fontsize=20)\n",
        "plt.xticks(rotation='horizontal')\n",
        "plt.xlabel(\"Class\", fontsize=20)\n",
        "plt.ylabel(\"Class Count\", fontsize=20)\n",
        "plt.show()"
      ],
      "execution_count": 6,
      "outputs": [
        {
          "output_type": "display_data",
          "data": {
            "image/png": "[encoded data removed]",
            "text/plain": [
              "<Figure size 432x288 with 1 Axes>"
            ]
          },
          "metadata": {
            "tags": [],
            "needs_background": "light"
          }
        }
      ]
    },
    {
      "cell_type": "code",
      "metadata": {
        "colab": {
          "base_uri": "https://localhost:8080/",
          "height": 314
        },
        "id": "Og32xjJdRGD2",
        "outputId": "e4518808-4891-4650-d094-fc1a7f5f3c8c"
      },
      "source": [
        "# Graph counts of test set\n",
        "count_test_classes = pd.value_counts(test_df['Class'])\n",
        "count_test_classes.plot(kind='bar', fontsize=16, colormap='ocean')\n",
        "plt.title(\"Class Count (Testing)\", fontsize=20)\n",
        "plt.xticks(rotation='horizontal')\n",
        "plt.xlabel(\"Class\", fontsize=20)\n",
        "plt.ylabel(\"Class Count\", fontsize=20)\n",
        "plt.show()"
      ],
      "execution_count": 7,
      "outputs": [
        {
          "output_type": "display_data",
          "data": {
            "image/png": "[encoded data removed]",
            "text/plain": [
              "<Figure size 432x288 with 1 Axes>"
            ]
          },
          "metadata": {
            "tags": [],
            "needs_background": "light"
          }
        }
      ]
    },
    {
      "cell_type": "code",
      "metadata": {
        "id": "U6t406lERfXZ"
      },
      "source": [
        "#Creating a function which will return features(words) from the URL\n",
        "def tokenizer(url):\n",
        "  # Split by slash (/) and dash (-)\n",
        "  tokens = re.split('[/-]', url)\n",
        "  \n",
        "  for i in tokens:\n",
        "    # Include the splits extensions and subdomains\n",
        "    if i.find(\".\") >= 0:\n",
        "      dot_split = i.split('.')\n",
        "      \n",
        "      # Remove .com and www. since they're too common\n",
        "      if \"com\" in dot_split:\n",
        "        dot_split.remove(\"com\")\n",
        "      if \"www\" in dot_split:\n",
        "        dot_split.remove(\"www\")\n",
        "          \n",
        "      tokens += dot_split\n",
        "  return tokens"
      ],
      "execution_count": 8,
      "outputs": []
    },
    {
      "cell_type": "code",
      "metadata": {
        "colab": {
          "base_uri": "https://localhost:8080/"
        },
        "id": "JZAoebOzS8tX",
        "outputId": "5971955c-3919-420f-a260-fad5dcf46dcf"
      },
      "source": [
        "#Verifying the function\n",
        "print(tokenizer(\"https://en.wikipedia.org/wiki/Information_security_management\"))"
      ],
      "execution_count": 9,
      "outputs": [
        {
          "output_type": "stream",
          "text": [
            "['https:', '', 'en.wikipedia.org', 'wiki', 'Information_security_management', 'en', 'wikipedia', 'org']\n"
          ],
          "name": "stdout"
        }
      ]
    },
    {
      "cell_type": "code",
      "metadata": {
        "id": "zNcQjz4RU7P5"
      },
      "source": [
        "#Vectorizing the training dataset\n",
        "\n",
        "#Count Vectorizer\n",
        "cVec = CountVectorizer(tokenizer=tokenizer)\n",
        "count_X = cVec.fit_transform(train_df['URLs'])\n",
        "\n",
        "#TF-IDF\n",
        "tVec = TfidfVectorizer(tokenizer=tokenizer)\n",
        "tfidf_X = tVec.fit_transform(train_df['URLs'])"
      ],
      "execution_count": 10,
      "outputs": []
    },
    {
      "cell_type": "code",
      "metadata": {
        "colab": {
          "base_uri": "https://localhost:8080/"
        },
        "id": "0G8Wug6wW4gS",
        "outputId": "f05743a8-1966-4bf1-d587-0f22968ab167"
      },
      "source": [
        "#Verfying the vectorizer\n",
        "\n",
        "#CountVectorizer shape\n",
        "print(count_X.shape)\n",
        "\n",
        "#TF-IDF shape\n",
        "print(tfidf_X.shape)"
      ],
      "execution_count": 13,
      "outputs": [
        {
          "output_type": "stream",
          "text": [
            "(336371, 575564)\n",
            "(336371, 575564)\n"
          ],
          "name": "stdout"
        }
      ]
    },
    {
      "cell_type": "code",
      "metadata": {
        "id": "2suUUdpdXCBq"
      },
      "source": [
        "#Vectorizing the testing dataset\n",
        "\n",
        "#Count Vectorizer\n",
        "test_count_X = cVec.fit_transform(test_df['URLs'])\n",
        "\n",
        "#TF-IDF\n",
        "test_tfidf_X = tVec.fit_transform(test_df['URLs'])"
      ],
      "execution_count": 14,
      "outputs": []
    },
    {
      "cell_type": "code",
      "metadata": {
        "colab": {
          "base_uri": "https://localhost:8080/"
        },
        "id": "UiuovNTLajGm",
        "outputId": "3b24c916-c434-43fd-a991-a1462584f0e7"
      },
      "source": [
        "#Verfying the vectorizer\n",
        "\n",
        "#CountVectorizer shape\n",
        "print(test_count_X.shape)\n",
        "\n",
        "#TF-IDF shape\n",
        "print(test_tfidf_X.shape)"
      ],
      "execution_count": 15,
      "outputs": [
        {
          "output_type": "stream",
          "text": [
            "(84093, 188527)\n",
            "(84093, 188527)\n"
          ],
          "name": "stdout"
        }
      ]
    },
    {
      "cell_type": "code",
      "metadata": {
        "id": "tJ66owIxapcK"
      },
      "source": [
        ""
      ],
      "execution_count": null,
      "outputs": []
    }
  ]
}